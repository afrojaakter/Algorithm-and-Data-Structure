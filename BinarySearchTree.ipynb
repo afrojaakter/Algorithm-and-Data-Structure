{
  "nbformat": 4,
  "nbformat_minor": 0,
  "metadata": {
    "colab": {
      "name": "Untitled21.ipynb",
      "provenance": [],
      "collapsed_sections": [],
      "authorship_tag": "ABX9TyNXgDBl2R5mT9h1ZUfjnoga",
      "include_colab_link": true
    },
    "kernelspec": {
      "name": "python3",
      "display_name": "Python 3"
    }
  },
  "cells": [
    {
      "cell_type": "markdown",
      "metadata": {
        "id": "view-in-github",
        "colab_type": "text"
      },
      "source": [
        "<a href=\"https://colab.research.google.com/github/afrojaakter/Algorithm-and-Data-Structure/blob/main/BinarySearchTree.ipynb\" target=\"_parent\"><img src=\"https://colab.research.google.com/assets/colab-badge.svg\" alt=\"Open In Colab\"/></a>"
      ]
    },
    {
      "cell_type": "code",
      "metadata": {
        "id": "XHs0WdukyTQX"
      },
      "source": [
        "class BinaryTreeNode(object):\n",
        "  def __init__(self, value):\n",
        "    self.value = value\n",
        "    self.left = None\n",
        "    self.right = None\n",
        "\n",
        "  def inser_left(self, value):\n",
        "    return BinaryTreeNode(value)\n",
        "  \n",
        "  def inser_right(self, value):\n",
        "    return BinaryTreeNode(value)\n",
        "\n",
        "  def find_largest(root_node):\n",
        "    if not root_node:\n",
        "      raise ValueError('Tree must have at least 1 node')\n",
        "    if root_node.right:\n",
        "      return find_largest(root_node.right)\n",
        "    return root_node.value\n",
        "\n",
        "  def find_second_largest(root_node):\n",
        "    if (root_node is None or (root_node.left is None and root_node.right is None)):\n",
        "      raise ValueError('Tree must have at least two nodes')\n",
        "\n",
        "    # If we're currently at the largest node and it has a left subtree, \n",
        "    # so 2nd largest is the largest in that subtree, i.e the right node of that subtree\n",
        "    if root_node.left and root_node.right is None:\n",
        "      return find_largest(root_node.left)\n",
        "\n",
        "    #if we are at the parent of the largest node and the parent node has no left subtree,\n",
        "    #then 2nd largest is the parent node.\n",
        "    if (root_node.right and root_node.right.left is None and root_node.right.right is None):\n",
        "      return root_node.value\n",
        "    \n",
        "    #ortherwise: step_right\n",
        "    return find_second_largest(root_node.right)\n",
        "    \n",
        "\n",
        "\n",
        "  \n",
        "  "
      ],
      "execution_count": null,
      "outputs": []
    },
    {
      "cell_type": "markdown",
      "metadata": {
        "id": "Wz1quigp8bJj"
      },
      "source": [
        "It will take o(h) time (where h is the height of the tree) and 0(h) space.\n",
        "h space in the call stack is avoidable."
      ]
    },
    {
      "cell_type": "code",
      "metadata": {
        "id": "hlFQvPjT80Cg"
      },
      "source": [
        "def find_largest(root_node):\n",
        "    current = root_node\n",
        "    while current:\n",
        "        if current.right is None:\n",
        "            return current.value\n",
        "        current = current.right\n",
        "        \n",
        "def find_second_largest(root_node):\n",
        "\n",
        "    # Find the second largest item in the binary search tree\n",
        "    \n",
        "    if (root_node is None or (root_node.left is None and root_node.right is None)):\n",
        "      raise ValueError('Tree must have at least two nodes')\n",
        "\n",
        "    current = root_node\n",
        "    while current:\n",
        "        #current is the largest node and has a left subtree\n",
        "        # then 2nd largest is the largest of that subtree\n",
        "        if current.left and not current.right:\n",
        "            return find_largest(current.left)\n",
        "        \n",
        "        #current is the parent node of the largest and largest has no child\n",
        "        #then parent node is the 2nd largest \n",
        "        if curren.right and current.right.left is None and current.right.right is None:\n",
        "            return current.right\n",
        "        current = current.right\n",
        "    def find_largest(root_node)"
      ],
      "execution_count": null,
      "outputs": []
    },
    {
      "cell_type": "markdown",
      "metadata": {
        "id": "vuOPANgk9DX1"
      },
      "source": [
        "We're doing one walk down our BST, which means $O(h)O(h)$ time, where hh is the height of the tree (again, that's $O(\\lg{n})O(lgn)$ if the tree is balanced, $O(n)O(n)$ otherwise). $O(1)O(1)$ space."
      ]
    }
  ]
}