{
  "nbformat": 4,
  "nbformat_minor": 0,
  "metadata": {
    "colab": {
      "name": "Find Numbers with Even Number of Digits.ipynb",
      "provenance": [],
      "authorship_tag": "ABX9TyOKW9732MGXKWqFvEeGmdFf",
      "include_colab_link": true
    },
    "kernelspec": {
      "name": "python3",
      "display_name": "Python 3"
    }
  },
  "cells": [
    {
      "cell_type": "markdown",
      "metadata": {
        "id": "view-in-github",
        "colab_type": "text"
      },
      "source": [
        "<a href=\"https://colab.research.google.com/github/afrojaakter/Algorithm-and-Data-Structure/blob/main/Find_Numbers_with_Even_Number_of_Digits.ipynb\" target=\"_parent\"><img src=\"https://colab.research.google.com/assets/colab-badge.svg\" alt=\"Open In Colab\"/></a>"
      ]
    },
    {
      "cell_type": "code",
      "metadata": {
        "id": "z_tVc1cx6tTT"
      },
      "source": [
        "class Solution:\r\n",
        "    def findNumbers(self, nums: List[int]) -> int:\r\n",
        "        even_digits = 0\r\n",
        "        for i in nums:\r\n",
        "          disits = 0\r\n",
        "            while i>0:\r\n",
        "              i = i //10\r\n",
        "              digits +=1\r\n",
        "            if digits %2 == 0:\r\n",
        "              even_digits += 1\r\n",
        "          return even_digits"
      ],
      "execution_count": null,
      "outputs": []
    }
  ]
}